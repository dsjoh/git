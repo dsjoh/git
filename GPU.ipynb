{
  "nbformat": 4,
  "nbformat_minor": 0,
  "metadata": {
    "colab": {
      "provenance": [],
      "machine_shape": "hm",
      "include_colab_link": true
    },
    "kernelspec": {
      "name": "python3",
      "display_name": "Python 3"
    },
    "language_info": {
      "name": "python"
    },
    "gpuClass": "standard",
    "accelerator": "GPU"
  },
  "cells": [
    {
      "cell_type": "markdown",
      "metadata": {
        "id": "view-in-github",
        "colab_type": "text"
      },
      "source": [
        "<a href=\"https://colab.research.google.com/github/dsjoh/git/blob/main/GPU.ipynb\" target=\"_parent\"><img src=\"https://colab.research.google.com/assets/colab-badge.svg\" alt=\"Open In Colab\"/></a>"
      ]
    },
    {
      "cell_type": "markdown",
      "source": [
        "# Library"
      ],
      "metadata": {
        "id": "3hMmpBhVEt7o"
      }
    },
    {
      "cell_type": "code",
      "source": [
        "import os\n",
        "import pandas as pd\n",
        "import numpy as np\n",
        "\n",
        "import random as python_random \n",
        "\n",
        "import matplotlib.pyplot as plt\n",
        "%matplotlib inline\n",
        "\n",
        "\n",
        "# install #\n",
        "!pip install --upgrade scikit-learn\n",
        "!pip install catboost\n",
        "!pip install category_encoders"
      ],
      "metadata": {
        "id": "A7Mo3EdnDP7h"
      },
      "execution_count": null,
      "outputs": []
    },
    {
      "cell_type": "markdown",
      "source": [
        "# Version"
      ],
      "metadata": {
        "id": "0wOZVRpRSyC8"
      }
    },
    {
      "cell_type": "code",
      "source": [
        "import sys\n",
        "import sklearn\n",
        "import numpy\n",
        "import pandas\n",
        "import catboost"
      ],
      "metadata": {
        "id": "KY6DW0esSxS6"
      },
      "execution_count": 3,
      "outputs": []
    },
    {
      "cell_type": "markdown",
      "source": [
        "# Parameter"
      ],
      "metadata": {
        "id": "IURuwsKuElXh"
      }
    },
    {
      "cell_type": "code",
      "source": [
        "########################## 여기서 경로수정(파일별 직접 경로 설정해주세요) #############################################\n",
        "\n",
        "PAR = {\n",
        "    'SEED' : 42,\n",
        "    'FOLD' : 6,\n",
        "    'EARLY_STOP' : 1000,\n",
        "    'FILEPATH' : '/content/drive/MyDrive/LG Comp/LG_data.zip', # zip파일 데이터셋 경로\n",
        "    'TRAIN_DIRECTPATH' : '', # train.csv 데이터셋 직접 경로  './data/train.csv'\n",
        "    'TEST_DIRECTPATH' : '', # test.csv 데이터셋 직접 경로  './data/test.csv'\n",
        "    'SUB_DIRECTPATH' : '', # sample_submission.csv 데이터셋 직접 경로  './data/sample_submission.csv'\n",
        "    'OUTPUT_PATH' : './' # 출력물이 저장되는 경로  './data/'\n",
        "}"
      ],
      "metadata": {
        "id": "f4LEkzVREBj9"
      },
      "execution_count": 4,
      "outputs": []
    },
    {
      "cell_type": "markdown",
      "source": [
        "#SEED"
      ],
      "metadata": {
        "id": "FHLFRBFYE0Ye"
      }
    },
    {
      "cell_type": "code",
      "source": [
        "# 시드 고정\n",
        "seed_num = PAR['SEED']\n",
        "np.random.seed(seed_num)\n",
        "python_random.seed(seed_num)"
      ],
      "metadata": {
        "id": "gj5t-yiJEW8B"
      },
      "execution_count": 5,
      "outputs": []
    },
    {
      "cell_type": "markdown",
      "source": [
        "# Dataset"
      ],
      "metadata": {
        "id": "gyj5rSVJFDFt"
      }
    },
    {
      "cell_type": "code",
      "source": [
        "# CSV 직접 경로 설정 시\n",
        "if PAR['TRAIN_DIRECTPATH'] and PAR['TEST_DIRECTPATH'] and PAR['SUB_DIRECTPATH'] != '' :\n",
        "  train = pd.read_csv(PAR['TRAIN_DIRECTPATH'])\n",
        "  test = pd.read_csv(PAR['TEST_DIRECTPATH'])\n",
        "  sub = pd.read_csv(PAR['SUB_DIRECTPATH'])\n",
        "\n",
        "# Colab 환경에서 ZIP 경로만 설정 시\n",
        "elif PAR['FILEPATH'].split('/')[0]=='content' : \n",
        "  train = pd.read_csv('/content/train.csv')\n",
        "  test = pd.read_csv('/content/test.csv')\n",
        "  sub = pd.read_csv('/content/sample_submission.csv')\n",
        "\n",
        "# 이외 ./ 경로\n",
        "else :\n",
        "  train = pd.read_csv('./train.csv')\n",
        "  test = pd.read_csv('./test.csv')\n",
        "  sub = pd.read_csv('./sample_submission.csv')"
      ],
      "metadata": {
        "id": "4vMqJ2GhDdyc"
      },
      "execution_count": null,
      "outputs": []
    },
    {
      "cell_type": "markdown",
      "source": [
        "#Preprocessing"
      ],
      "metadata": {
        "id": "Pvdg5FjHPtDl"
      }
    },
    {
      "cell_type": "code",
      "source": [
        "import category_encoders as ce\n",
        "\n",
        "train2 = train.copy()\n",
        "test2 = test.copy()\n",
        "\n",
        "# TIMESTAMP 전처리\n",
        "train2['TIMESTAMP'] = pd.to_datetime(train2['TIMESTAMP'])\n",
        "train2['month'] = train2['TIMESTAMP'].dt.month # 월\n",
        "train2['day'] = train2['TIMESTAMP'].dt.day # 일\n",
        "train2['hour'] = train2['TIMESTAMP'].dt.hour # 시간\n",
        "train2['minute'] = train2['TIMESTAMP'].dt.minute # 분\n",
        "\n",
        "test2['TIMESTAMP'] = pd.to_datetime(test2['TIMESTAMP'])\n",
        "test2['month'] = test2['TIMESTAMP'].dt.month # 월\n",
        "test2['day'] = test2['TIMESTAMP'].dt.day # 일\n",
        "test2['hour'] = test2['TIMESTAMP'].dt.hour # 시간\n",
        "test2['minute'] = test2['TIMESTAMP'].dt.minute # 분\n",
        "\n",
        "# Label\n",
        "label_df = train['Y_Class']\n",
        "\n",
        "\n",
        "# cat-encoding\n",
        "train_cat = pd.concat([train['PRODUCT_CODE'], train['LINE']], axis=1)\n",
        "test_cat = pd.concat([test['PRODUCT_CODE'], test['LINE']], axis=1)\n",
        "\n",
        "ce1 = ce.CatBoostEncoder()\n",
        "ce1.fit(train_cat['PRODUCT_CODE'],label_df)\n",
        "train_cat['PRODUCT_CODE'] = ce1.transform(train_cat['PRODUCT_CODE'])\n",
        "test_cat['PRODUCT_CODE'] = ce1.transform(test_cat['PRODUCT_CODE'])\n",
        "\n",
        "ce2 = ce.CatBoostEncoder()\n",
        "ce2.fit(train_cat['LINE'],label_df)\n",
        "train_cat['LINE'] = ce2.transform(train_cat['LINE'])\n",
        "test_cat['LINE'] = ce2.transform(test_cat['LINE'])\n",
        "\n",
        "\n",
        "# 학습에 불필요한 column drop\n",
        "train2 = train2.drop(columns=['PRODUCT_ID','TIMESTAMP','Y_Class','Y_Quality','LINE','PRODUCT_CODE'])\n",
        "test2 = test2.drop(columns=['PRODUCT_ID','TIMESTAMP','LINE','PRODUCT_CODE'])\n",
        "\n",
        "\n",
        "train2 = pd.concat([train2,train_cat],axis=1)\n",
        "test2 = pd.concat([test2,test_cat],axis=1)"
      ],
      "metadata": {
        "id": "jrWZs0llP1Fv"
      },
      "execution_count": null,
      "outputs": []
    },
    {
      "cell_type": "code",
      "source": [
        "from sklearn.model_selection import StratifiedKFold\n",
        "from sklearn.metrics import *\n",
        "from catboost import CatBoostClassifier\n",
        "from catboost import CatBoostClassifier\n",
        "from sklearn.model_selection import cross_val_score, cross_validate\n",
        "from tqdm import tqdm\n",
        "from sklearn.feature_selection import RFECV\n",
        "\n",
        "skf = StratifiedKFold(n_splits = 5, shuffle = True, random_state = 42)\n",
        "\n",
        "cbc = CatBoostClassifier(verbose = 1000, eval_metric='TotalF1:average=Macro',task_type='GPU')\n",
        "rfecv=RFECV(estimator=cbc,step=1,cv=skf,scoring='f1_macro',verbose=5)\n",
        "rfecv.fit(train2,label_df)\n",
        "\n",
        "#to get number of the features\n",
        "display('Number of features:', rfecv.n_features_)\n",
        "\n",
        "#to get feature names\n",
        "col_list = list(train2.columns[rfecv.support_]) \n",
        "col_list\n",
        "\n",
        "plt.title(\"RFECV \")\n",
        "plt.xlabel(\"Number Of Features\")\n",
        "plt.ylabel(\"f1-macro\")\n",
        "plt.plot(range(1, len(rfecv.cv_results_['mean_test_score']) + 1), rfecv.cv_results_['mean_test_score'])\n",
        "plt.show()\n",
        "\n",
        "df1 = pd.DataFrame(col_list)\n",
        "df1.columns = ['col_list']\n",
        "df1.to_csv(\"./cat_list.csv\", index=False, header=False)\n",
        "\n",
        "df2 = pd.DataFrame(rfecv.ranking_)\n",
        "df2.columns = ['col_ranking']\n",
        "df2.to_csv(\"./col_ranking.csv\", index=False, header=False)"
      ],
      "metadata": {
        "id": "nFVF5EsgK0Xf"
      },
      "execution_count": null,
      "outputs": []
    }
  ]
}